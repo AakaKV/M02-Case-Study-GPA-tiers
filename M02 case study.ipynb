{
 "cells": [
  {
   "cell_type": "code",
   "execution_count": 2,
   "id": "cfef2b3c",
   "metadata": {},
   "outputs": [
    {
     "name": "stdout",
     "output_type": "stream",
     "text": [
      "Input Student's First name: ZZZ to quit Lee\n",
      "Input Student's Last name: Weathy\n",
      "Enter student's GPA between 1.0 to 4.0: 3.40\n",
      "Congratulations, Lee Weathy is on the dean's list! with a GPA of 3.4!\n"
     ]
    }
   ],
   "source": [
    "\"\"\"Lee Weatherspoon M02: case Study app: This app should tell a student or parent \n",
    "if they are on the honor roll or dean's list of the school\"\"\"\n",
    "fName = str(input(\"Input Student's First name: ZZZ to quit \"))\n",
    "if fName != \"ZZZ\":\n",
    "    lName = str(input(\"Input Student's Last name: \"))\n",
    "    studentGpa = float(input(\"Enter student's GPA between 1.0 to 4.0: \"))\n",
    "    if studentGpa > 3.50:#Tried to set a barrier between honor roll and dean's list but ran into an issue with the decimals\n",
    "        print(f\"Congratulations, {fName} {lName} is on the dean's list! with a GPA of {studentGpa}!\")\n",
    "    elif studentGpa > 3.25:\n",
    "        #this is supposed to be the lower bracket of high tier students but it never gets here.\n",
    "        print(f\"Congratulations, {fName} {lName} is on the dean's list! with a GPA of {studentGpa}!\")\n",
    "    else:\n",
    "        print(f\"Apologies, {fName} {lName} is not on the honor roll or dean's list. with a GPA of {studentGpa}.\")\n",
    "        "
   ]
  }
 ],
 "metadata": {
  "kernelspec": {
   "display_name": "Python 3 (ipykernel)",
   "language": "python",
   "name": "python3"
  },
  "language_info": {
   "codemirror_mode": {
    "name": "ipython",
    "version": 3
   },
   "file_extension": ".py",
   "mimetype": "text/x-python",
   "name": "python",
   "nbconvert_exporter": "python",
   "pygments_lexer": "ipython3",
   "version": "3.9.12"
  }
 },
 "nbformat": 4,
 "nbformat_minor": 5
}
